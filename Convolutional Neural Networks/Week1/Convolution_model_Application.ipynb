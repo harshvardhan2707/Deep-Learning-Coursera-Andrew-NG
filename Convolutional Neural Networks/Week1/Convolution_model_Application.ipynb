{
 "cells": [
  {
   "cell_type": "markdown",
   "metadata": {},
   "source": [
    "# Convolutional Neural Networks: Application\n",
    "\n",
    "Welcome to Course 4's second assignment! In this notebook, you will:\n",
    "\n",
    "- Create a mood classifer using the TF Keras Sequential API\n",
    "- Build a ConvNet to identify sign language digits using the TF Keras Functional API\n",
    "\n",
    "**After this assignment you will be able to:**\n",
    "\n",
    "- Build and train a ConvNet in TensorFlow for a __binary__ classification problem\n",
    "- Build and train a ConvNet in TensorFlow for a __multiclass__ classification problem\n",
    "- Explain different use cases for the Sequential and Functional APIs\n",
    "\n",
    "To complete this assignment, you should already be familiar with TensorFlow. If you are not, please refer back to the **TensorFlow Tutorial** of the third week of Course 2 (\"**Improving deep neural networks**\").\n",
    "\n",
    "## Important Note on Submission to the AutoGrader\n",
    "\n",
    "Before submitting your assignment to the AutoGrader, please make sure you are not doing the following:\n",
    "\n",
    "1. You have not added any _extra_ `print` statement(s) in the assignment.\n",
    "2. You have not added any _extra_ code cell(s) in the assignment.\n",
    "3. You have not changed any of the function parameters.\n",
    "4. You are not using any global variables inside your graded exercises. Unless specifically instructed to do so, please refrain from it and use the local variables instead.\n",
    "5. You are not changing the assignment code where it is not required, like creating _extra_ variables.\n",
    "\n",
    "If you do any of the following, you will get something like, `Grader not found` (or similarly unexpected) error upon submitting your assignment. Before asking for help/debugging the errors in your assignment, check for these first. If this is the case, and you don't remember the changes you have made, you can get a fresh copy of the assignment by following these [instructions](https://www.coursera.org/learn/convolutional-neural-networks/supplement/DS4yP/h-ow-to-refresh-your-workspace)."
   ]
  },
  {
   "cell_type": "markdown",
   "metadata": {},
   "source": [
    "## Table of Contents\n",
    "\n",
    "- [1 - Packages](#1)\n",
    "    - [1.1 - Load the Data and Split the Data into Train/Test Sets](#1-1)\n",
    "- [2 - Layers in TF Keras](#2)\n",
    "- [3 - The Sequential API](#3)\n",
    "    - [3.1 - Create the Sequential Model](#3-1)\n",
    "        - [Exercise 1 - happyModel](#ex-1)\n",
    "    - [3.2 - Train and Evaluate the Model](#3-2)\n",
    "- [4 - The Functional API](#4)\n",
    "    - [4.1 - Load the SIGNS Dataset](#4-1)\n",
    "    - [4.2 - Split the Data into Train/Test Sets](#4-2)\n",
    "    - [4.3 - Forward Propagation](#4-3)\n",
    "        - [Exercise 2 - convolutional_model](#ex-2)\n",
    "    - [4.4 - Train the Model](#4-4)\n",
    "- [5 - History Object](#5)\n",
    "- [6 - Bibliography](#6)"
   ]
  },
  {
   "cell_type": "markdown",
   "metadata": {},
   "source": [
    "<a name='1'></a>\n",
    "## 1 - Packages\n",
    "\n",
    "As usual, begin by loading in the packages."
   ]
  },
  {
   "cell_type": "code",
   "execution_count": 1,
   "metadata": {},
   "outputs": [],
   "source": [
    "import math\n",
    "import numpy as np\n",
    "import h5py\n",
    "import matplotlib.pyplot as plt\n",
    "from matplotlib.pyplot import imread\n",
    "import scipy\n",
    "from PIL import Image\n",
    "import pandas as pd\n",
    "import tensorflow as tf\n",
    "import tensorflow.keras.layers as tfl\n",
    "from tensorflow.python.framework import ops\n",
    "from cnn_utils import *\n",
    "from test_utils import summary, comparator\n",
    "\n",
    "%matplotlib inline\n",
    "np.random.seed(1)"
   ]
  },
  {
   "cell_type": "markdown",
   "metadata": {},
   "source": [
    "<a name='1-1'></a>\n",
    "### 1.1 - Load the Data and Split the Data into Train/Test Sets\n",
    "\n",
    "You'll be using the Happy House dataset for this part of the assignment, which contains images of peoples' faces. Your task will be to build a ConvNet that determines whether the people in the images are smiling or not -- because they only get to enter the house if they're smiling!  "
   ]
  },
  {
   "cell_type": "code",
   "execution_count": 2,
   "metadata": {},
   "outputs": [
    {
     "name": "stdout",
     "output_type": "stream",
     "text": [
      "number of training examples = 600\n",
      "number of test examples = 150\n",
      "X_train shape: (600, 64, 64, 3)\n",
      "Y_train shape: (600, 1)\n",
      "X_test shape: (150, 64, 64, 3)\n",
      "Y_test shape: (150, 1)\n"
     ]
    }
   ],
   "source": [
    "X_train_orig, Y_train_orig, X_test_orig, Y_test_orig, classes = load_happy_dataset()\n",
    "\n",
    "# Normalize image vectors\n",
    "X_train = X_train_orig/255.\n",
    "X_test = X_test_orig/255.\n",
    "\n",
    "# Reshape\n",
    "Y_train = Y_train_orig.T\n",
    "Y_test = Y_test_orig.T\n",
    "\n",
    "print (\"number of training examples = \" + str(X_train.shape[0]))\n",
    "print (\"number of test examples = \" + str(X_test.shape[0]))\n",
    "print (\"X_train shape: \" + str(X_train.shape))\n",
    "print (\"Y_train shape: \" + str(Y_train.shape))\n",
    "print (\"X_test shape: \" + str(X_test.shape))\n",
    "print (\"Y_test shape: \" + str(Y_test.shape))"
   ]
  },
  {
   "cell_type": "markdown",
   "metadata": {},
   "source": [
    "You can display the images contained in the dataset. Images are **64x64** pixels in RGB format (3 channels)."
   ]
  },
  {
   "cell_type": "code",
   "execution_count": 3,
   "metadata": {},
   "outputs": [
    {
     "data": {
      "image/png": "[encoded data removed]",
      "text/plain": [
       "<Figure size 432x288 with 1 Axes>"
      ]
     },
     "metadata": {
      "needs_background": "light"
     },
     "output_type": "display_data"
    }
   ],
   "source": [
    "index = 124\n",
    "plt.imshow(X_train_orig[index]) #display sample training image\n",
    "plt.show()"
   ]
  },
  {
   "cell_type": "markdown",
   "metadata": {},
   "source": [
    "<a name='2'></a>\n",
    "## 2 - Layers in TF Keras \n",
    "\n",
    "In the previous assignment, you created layers manually in numpy. In TF Keras, you don't have to write code directly to create layers. Rather, TF Keras has pre-defined layers you can use. \n",
    "\n",
    "When you create a layer in TF Keras, you are creating a function that takes some input and transforms it into an output you can reuse later. Nice and easy! "
   ]
  },
  {
   "cell_type": "markdown",
   "metadata": {},
   "source": [
    "<a name='3'></a>\n",
    "## 3 - The Sequential API\n",
    "\n",
    "In the previous assignment, you built helper functions using `numpy` to understand the mechanics behind convolutional neural networks. Most practical applications of deep learning today are built using programming frameworks, which have many built-in functions you can simply call. Keras is a high-level abstraction built on top of TensorFlow, which allows for even more simplified and optimized model creation and training. \n",
    "\n",
    "For the first part of this assignment, you'll create a model using TF Keras' Sequential API, which allows you to build layer by layer, and is ideal for building models where each layer has **exactly one** input tensor and **one** output tensor. \n",
    "\n",
    "As you'll see, using the Sequential API is simple and straightforward, but is only appropriate for simpler, more straightforward tasks. Later in this notebook you'll spend some time building with a more flexible, powerful alternative: the Functional API. \n",
    " "
   ]
  },
  {
   "cell_type": "markdown",
   "metadata": {},
   "source": [
    "<a name='3-1'></a>\n",
    "### 3.1 - Create the Sequential Model\n",
    "\n",
    "As mentioned earlier, the TensorFlow Keras Sequential API can be used to build simple models with layer operations that proceed in a sequential order. \n",
    "\n",
    "You can also add layers incrementally to a Sequential model with the `.add()` method, or remove them using the `.pop()` method, much like you would in a regular Python list.\n",
    "\n",
    "Actually, you can think of a Sequential model as behaving like a list of layers. Like Python lists, Sequential layers are ordered, and the order in which they are specified matters.  If your model is non-linear or contains layers with multiple inputs or outputs, a Sequential model wouldn't be the right choice!\n",
    "\n",
    "For any layer construction in Keras, you'll need to specify the input shape in advance. This is because in Keras, the shape of the weights is based on the shape of the inputs. The weights are only created when the model first sees some input data. Sequential models can be created by passing a list of layers to the Sequential constructor, like you will do in the next assignment.\n",
    "\n",
    "<a name='ex-1'></a>\n",
    "### Exercise 1 - happyModel\n",
    "\n",
    "Implement the `happyModel` function below to build the following model: `ZEROPAD2D -> CONV2D -> BATCHNORM -> RELU -> MAXPOOL -> FLATTEN -> DENSE`. Take help from [tf.keras.layers](https://www.tensorflow.org/api_docs/python/tf/keras/layers) \n",
    "\n",
    "Also, plug in the following parameters for all the steps:\n",
    "\n",
    " - [ZeroPadding2D](https://www.tensorflow.org/api_docs/python/tf/keras/layers/ZeroPadding2D): padding 3, input shape 64 x 64 x 3\n",
    " - [Conv2D](https://www.tensorflow.org/api_docs/python/tf/keras/layers/Conv2D): Use 32 7x7 filters, stride 1\n",
    " - [BatchNormalization](https://www.tensorflow.org/api_docs/python/tf/keras/layers/BatchNormalization): for axis 3\n",
    " - [ReLU](https://www.tensorflow.org/api_docs/python/tf/keras/layers/ReLU)\n",
    " - [MaxPool2D](https://www.tensorflow.org/api_docs/python/tf/keras/layers/MaxPool2D): Using default parameters\n",
    " - [Flatten](https://www.tensorflow.org/api_docs/python/tf/keras/layers/Flatten) the previous output.\n",
    " - Fully-connected ([Dense](https://www.tensorflow.org/api_docs/python/tf/keras/layers/Dense)) layer: Apply a fully connected layer with 1 neuron and a sigmoid activation. \n",
    " \n",
    " \n",
    " **Hint:**\n",
    " \n",
    " Use **tfl** as shorthand for **tensorflow.keras.layers**"
   ]
  },
  {
   "cell_type": "code",
   "execution_count": 12,
   "metadata": {
    "deletable": false,
    "nbgrader": {
     "cell_type": "code",
     "checksum": "95d28b191f257bdd5b70c7b8952559d5",
     "grade": false,
     "grade_id": "cell-0e56d3fc28b69aec",
     "locked": false,
     "schema_version": 3,
     "solution": true,
     "task": false
    }
   },
   "outputs": [],
   "source": [
    "# GRADED FUNCTION: happyModel\n",
    "import tensorflow.keras.layers as tfl\n",
    "\n",
    "def happyModel():\n",
    "    \"\"\"\n",
    "    Implements the forward propagation for the binary classification model:\n",
    "    ZEROPAD2D -> CONV2D -> BATCHNORM -> RELU -> MAXPOOL -> FLATTEN -> DENSE\n",
    "    \n",
    "    Note that for simplicity and grading purposes, you'll hard-code all the values\n",
    "    such as the stride and kernel (filter) sizes. \n",
    "    Normally, functions should take these values as function parameters.\n",
    "    \n",
    "    Arguments:\n",
    "    None\n",
    "\n",
    "    Returns:\n",
    "    model -- TF Keras model (object containing the information for the entire training process) \n",
    "    \"\"\"\n",
    "    model = tf.keras.Sequential([\n",
    "            ## ZeroPadding2D with padding 3, input shape of 64 x 64 x 3\n",
    "            tfl.ZeroPadding2D(padding=(3,3),input_shape=(64,64,3)),\n",
    "            ## Conv2D with 32 7x7 filters and stride of 1\n",
    "            tfl.Conv2D(32,7,strides=(1,1)),\n",
    "            ## BatchNormalization for axis 3\n",
    "            tfl.BatchNormalization(axis=3),\n",
    "            ## ReLU\n",
    "            tfl.ReLU(),\n",
    "            ## Max Pooling 2D with default parameters\n",
    "            tfl.MaxPool2D(),\n",
    "            ## Flatten layer\n",
    "            tfl.Flatten(),\n",
    "            ## Dense layer with 1 unit for output & 'sigmoid' activation\n",
    "            tfl.Dense(1,activation='sigmoid')\n",
    "            # YOUR CODE STARTS HERE\n",
    "            \n",
    "            \n",
    "            # YOUR CODE ENDS HERE\n",
    "        ])\n",
    "    \n",
    "    return model"
   ]
  },
  {
   "cell_type": "code",
   "execution_count": 13,
   "metadata": {
    "deletable": false,
    "editable": false,
    "nbgrader": {
     "cell_type": "code",
     "checksum": "8d3575c950e2e78149be2d05d671c80d",
     "grade": true,
     "grade_id": "cell-e3e1046e5c33d775",
     "locked": true,
     "points": 10,
     "schema_version": 3,
     "solution": false,
     "task": false
    }
   },
   "outputs": [
    {
     "name": "stdout",
     "output_type": "stream",
     "text": [
      "['ZeroPadding2D', (None, 70, 70, 3), 0, ((3, 3), (3, 3))]\n",
      "['Conv2D', (None, 64, 64, 32), 4736, 'valid', 'linear', 'GlorotUniform']\n",
      "['BatchNormalization', (None, 64, 64, 32), 128]\n",
      "['ReLU', (None, 64, 64, 32), 0]\n",
      "['MaxPooling2D', (None, 32, 32, 32), 0, (2, 2), (2, 2), 'valid']\n",
      "['Flatten', (None, 32768), 0]\n",
      "['Dense', (None, 1), 32769, 'sigmoid']\n",
      "\u001b[32mAll tests passed!\u001b[0m\n"
     ]
    }
   ],
   "source": [
    "happy_model = happyModel()\n",
    "# Print a summary for each layer\n",
    "for layer in summary(happy_model):\n",
    "    print(layer)\n",
    "    \n",
    "output = [['ZeroPadding2D', (None, 70, 70, 3), 0, ((3, 3), (3, 3))],\n",
    "            ['Conv2D', (None, 64, 64, 32), 4736, 'valid', 'linear', 'GlorotUniform'],\n",
    "            ['BatchNormalization', (None, 64, 64, 32), 128],\n",
    "            ['ReLU', (None, 64, 64, 32), 0],\n",
    "            ['MaxPooling2D', (None, 32, 32, 32), 0, (2, 2), (2, 2), 'valid'],\n",
    "            ['Flatten', (None, 32768), 0],\n",
    "            ['Dense', (None, 1), 32769, 'sigmoid']]\n",
    "    \n",
    "comparator(summary(happy_model), output)"
   ]
  },
  {
   "cell_type": "markdown",
   "metadata": {},
   "source": [
    "#### Expected Output:\n",
    "\n",
    "```\n",
    "['ZeroPadding2D', (None, 70, 70, 3), 0, ((3, 3), (3, 3))]\n",
    "['Conv2D', (None, 64, 64, 32), 4736, 'valid', 'linear', 'GlorotUniform']\n",
    "['BatchNormalization', (None, 64, 64, 32), 128]\n",
    "['ReLU', (None, 64, 64, 32), 0]\n",
    "['MaxPooling2D', (None, 32, 32, 32), 0, (2, 2), (2, 2), 'valid']\n",
    "['Flatten', (None, 32768), 0]\n",
    "['Dense', (None, 1), 32769, 'sigmoid']\n",
    "All tests passed!\n",
    "```"
   ]
  },
  {
   "cell_type": "markdown",
   "metadata": {},
   "source": [
    "Now that your model is created, you can compile it for training with an optimizer and loss of your choice. When the string `accuracy` is specified as a metric, the type of accuracy used will be automatically converted based on the loss function used. This is one of the many optimizations built into TensorFlow that make your life easier! If you'd like to read more on how the compiler operates, check the docs [here](https://www.tensorflow.org/api_docs/python/tf/keras/Model#compile)."
   ]
  },
  {
   "cell_type": "code",
   "execution_count": 14,
   "metadata": {},
   "outputs": [],
   "source": [
    "happy_model.compile(optimizer='adam',\n",
    "                   loss='binary_crossentropy',\n",
    "                   metrics=['accuracy'])"
   ]
  },
  {
   "cell_type": "markdown",
   "metadata": {},
   "source": [
    "It's time to check your model's parameters with the `.summary()` method. This will display the types of layers you have, the shape of the outputs, and how many parameters are in each layer. "
   ]
  },
  {
   "cell_type": "code",
   "execution_count": 15,
   "metadata": {},
   "outputs": [
    {
     "name": "stdout",
     "output_type": "stream",
     "text": [
      "Model: \"sequential_1\"\n",
      "_________________________________________________________________\n",
      "Layer (type)                 Output Shape              Param #   \n",
      "=================================================================\n",
      "zero_padding2d_2 (ZeroPaddin (None, 70, 70, 3)         0         \n",
      "_________________________________________________________________\n",
      "conv2d_1 (Conv2D)            (None, 64, 64, 32)        4736      \n",
      "_________________________________________________________________\n",
      "batch_normalization_1 (Batch (None, 64, 64, 32)        128       \n",
      "_________________________________________________________________\n",
      "re_lu_1 (ReLU)               (None, 64, 64, 32)        0         \n",
      "_________________________________________________________________\n",
      "max_pooling2d_1 (MaxPooling2 (None, 32, 32, 32)        0         \n",
      "_________________________________________________________________\n",
      "flatten_1 (Flatten)          (None, 32768)             0         \n",
      "_________________________________________________________________\n",
      "dense_1 (Dense)              (None, 1)                 32769     \n",
      "=================================================================\n",
      "Total params: 37,633\n",
      "Trainable params: 37,569\n",
      "Non-trainable params: 64\n",
      "_________________________________________________________________\n"
     ]
    }
   ],
   "source": [
    "happy_model.summary()"
   ]
  },
  {
   "cell_type": "markdown",
   "metadata": {},
   "source": [
    "<a name='3-2'></a>\n",
    "### 3.2 - Train and Evaluate the Model\n",
    "\n",
    "After creating the model, compiling it with your choice of optimizer and loss function, and doing a sanity check on its contents, you are now ready to build! \n",
    "\n",
    "Simply call `.fit()` to train. That's it! No need for mini-batching, saving, or complex backpropagation computations. That's all been done for you, as you're using a TensorFlow dataset with the batches specified already. You do have the option to specify epoch number or minibatch size if you like (for example, in the case of an un-batched dataset)."
   ]
  },
  {
   "cell_type": "code",
   "execution_count": 16,
   "metadata": {},
   "outputs": [
    {
     "name": "stdout",
     "output_type": "stream",
     "text": [
      "Epoch 1/10\n",
      "38/38 [==============================] - 4s 100ms/step - loss: 0.9204 - accuracy: 0.7283\n",
      "Epoch 2/10\n",
      "38/38 [==============================] - 4s 97ms/step - loss: 0.1583 - accuracy: 0.9400\n",
      "Epoch 3/10\n",
      "38/38 [==============================] - 4s 95ms/step - loss: 0.1066 - accuracy: 0.9650\n",
      "Epoch 4/10\n",
      "38/38 [==============================] - 4s 97ms/step - loss: 0.1456 - accuracy: 0.9533\n",
      "Epoch 5/10\n",
      "38/38 [==============================] - 4s 95ms/step - loss: 0.1404 - accuracy: 0.9533\n",
      "Epoch 6/10\n",
      "38/38 [==============================] - 4s 95ms/step - loss: 0.2109 - accuracy: 0.9233\n",
      "Epoch 7/10\n",
      "38/38 [==============================] - 4s 97ms/step - loss: 0.1204 - accuracy: 0.9550\n",
      "Epoch 8/10\n",
      "38/38 [==============================] - 4s 97ms/step - loss: 0.0750 - accuracy: 0.9783\n",
      "Epoch 9/10\n",
      "38/38 [==============================] - 4s 95ms/step - loss: 0.0732 - accuracy: 0.9817\n",
      "Epoch 10/10\n",
      "38/38 [==============================] - 4s 97ms/step - loss: 0.0781 - accuracy: 0.9750\n"
     ]
    },
    {
     "data": {
      "text/plain": [
       "<tensorflow.python.keras.callbacks.History at 0x7f330b727350>"
      ]
     },
     "execution_count": 16,
     "metadata": {},
     "output_type": "execute_result"
    }
   ],
   "source": [
    "happy_model.fit(X_train, Y_train, epochs=10, batch_size=16)"
   ]
  },
  {
   "cell_type": "markdown",
   "metadata": {},
   "source": [
    "After that completes, just use `.evaluate()` to evaluate against your test set. This function will print the value of the loss function and the performance metrics specified during the compilation of the model. In this case, the `binary_crossentropy` and the `accuracy` respectively."
   ]
  },
  {
   "cell_type": "code",
   "execution_count": 17,
   "metadata": {},
   "outputs": [
    {
     "name": "stdout",
     "output_type": "stream",
     "text": [
      "5/5 [==============================] - 0s 34ms/step - loss: 0.1758 - accuracy: 0.9133\n"
     ]
    },
    {
     "data": {
      "text/plain": [
       "[0.1757730096578598, 0.9133333563804626]"
      ]
     },
     "execution_count": 17,
     "metadata": {},
     "output_type": "execute_result"
    }
   ],
   "source": [
    "happy_model.evaluate(X_test, Y_test)"
   ]
  },
  {
   "cell_type": "markdown",
   "metadata": {},
   "source": [
    "Easy, right? But what if you need to build a model with shared layers, branches, or multiple inputs and outputs? This is where Sequential, with its beautifully simple yet limited functionality, won't be able to help you. \n",
    "\n",
    "Next up: Enter the Functional API, your slightly more complex, highly flexible friend.  "
   ]
  },
  {
   "cell_type": "markdown",
   "metadata": {},
   "source": [
    "<a name='4'></a>\n",
    "## 4 - The Functional API"
   ]
  },
  {
   "cell_type": "markdown",
   "metadata": {},
   "source": [
    "Welcome to the second half of the assignment, where you'll use Keras' flexible [Functional API](https://www.tensorflow.org/guide/keras/functional) to build a ConvNet that can differentiate between 6 sign language digits. \n",
    "\n",
    "The Functional API can handle models with non-linear topology, shared layers, as well as layers with multiple inputs or outputs. Imagine that, where the Sequential API requires the model to move in a linear fashion through its layers, the Functional API allows much more flexibility. Where Sequential is a straight line, a Functional model is a graph, where the nodes of the layers can connect in many more ways than one. \n",
    "\n",
    "In the visual example below, the one possible direction of the movement Sequential model is shown in contrast to a skip connection, which is just one of the many ways a Functional model can be constructed. A skip connection, as you might have guessed, skips some layer in the network and feeds the output to a later layer in the network. Don't worry, you'll be spending more time with skip connections very soon! "
   ]
  },
  {
   "cell_type": "markdown",
   "metadata": {},
   "source": [
    "<img src=\"images/seq_vs_func.png\" style=\"width:350px;height:200px;\">"
   ]
  },
  {
   "cell_type": "markdown",
   "metadata": {},
   "source": [
    "<a name='4-1'></a>\n",
    "### 4.1 - Load the SIGNS Dataset\n",
    "\n",
    "As a reminder, the SIGNS dataset is a collection of 6 signs representing numbers from 0 to 5."
   ]
  },
  {
   "cell_type": "code",
   "execution_count": 18,
   "metadata": {},
   "outputs": [],
   "source": [
    "# Loading the data (signs)\n",
    "X_train_orig, Y_train_orig, X_test_orig, Y_test_orig, classes = load_signs_dataset()"
   ]
  },
  {
   "cell_type": "markdown",
   "metadata": {},
   "source": [
    "<img src=\"images/SIGNS.png\" style=\"width:800px;height:300px;\">\n",
    "\n",
    "The next cell will show you an example of a labelled image in the dataset. Feel free to change the value of `index` below and re-run to see different examples. "
   ]
  },
  {
   "cell_type": "code",
   "execution_count": 19,
   "metadata": {},
   "outputs": [
    {
     "name": "stdout",
     "output_type": "stream",
     "text": [
      "y = 4\n"
     ]
    },
    {
     "data": {
      "image/png": "[encoded data removed]",
      "text/plain": [
       "<Figure size 432x288 with 1 Axes>"
      ]
     },
     "metadata": {
      "needs_background": "light"
     },
     "output_type": "display_data"
    }
   ],
   "source": [
    "# Example of an image from the dataset\n",
    "index = 9\n",
    "plt.imshow(X_train_orig[index])\n",
    "print (\"y = \" + str(np.squeeze(Y_train_orig[:, index])))"
   ]
  },
  {
   "cell_type": "markdown",
   "metadata": {},
   "source": [
    "<a name='4-2'></a>\n",
    "### 4.2 - Split the Data into Train/Test Sets\n",
    "\n",
    "In Course 2, you built a fully-connected network for this dataset. But since this is an image dataset, it is more natural to apply a ConvNet to it.\n",
    "\n",
    "To get started, let's examine the shapes of your data. "
   ]
  },
  {
   "cell_type": "code",
   "execution_count": 20,
   "metadata": {},
   "outputs": [
    {
     "name": "stdout",
     "output_type": "stream",
     "text": [
      "number of training examples = 1080\n",
      "number of test examples = 120\n",
      "X_train shape: (1080, 64, 64, 3)\n",
      "Y_train shape: (1080, 6)\n",
      "X_test shape: (120, 64, 64, 3)\n",
      "Y_test shape: (120, 6)\n"
     ]
    }
   ],
   "source": [
    "X_train = X_train_orig/255.\n",
    "X_test = X_test_orig/255.\n",
    "Y_train = convert_to_one_hot(Y_train_orig, 6).T\n",
    "Y_test = convert_to_one_hot(Y_test_orig, 6).T\n",
    "print (\"number of training examples = \" + str(X_train.shape[0]))\n",
    "print (\"number of test examples = \" + str(X_test.shape[0]))\n",
    "print (\"X_train shape: \" + str(X_train.shape))\n",
    "print (\"Y_train shape: \" + str(Y_train.shape))\n",
    "print (\"X_test shape: \" + str(X_test.shape))\n",
    "print (\"Y_test shape: \" + str(Y_test.shape))"
   ]
  },
  {
   "cell_type": "markdown",
   "metadata": {},
   "source": [
    "<a name='4-3'></a>\n",
    "### 4.3 - Forward Propagation\n",
    "\n",
    "In TensorFlow, there are built-in functions that implement the convolution steps for you. By now, you should be familiar with how TensorFlow builds computational graphs. In the [Functional API](https://www.tensorflow.org/guide/keras/functional), you create a graph of layers. This is what allows such great flexibility.\n",
    "\n",
    "However, the following model could also be defined using the Sequential API since the information flow is on a single line. But don't deviate. What we want you to learn is to use the functional API.\n",
    "\n",
    "Begin building your graph of layers by creating an input node that functions as a callable object:\n",
    "\n",
    "- **input_img = tf.keras.Input(shape=input_shape):** \n",
    "\n",
    "Then, create a new node in the graph of layers by calling a layer on the `input_img` object: \n",
    "\n",
    "- **tf.keras.layers.Conv2D(filters= ... , kernel_size= ... , padding='same')(input_img):** Read the full documentation on [Conv2D](https://www.tensorflow.org/api_docs/python/tf/keras/layers/Conv2D).\n",
    "\n",
    "- **tf.keras.layers.MaxPool2D(pool_size=(f, f), strides=(s, s), padding='same'):** `MaxPool2D()` downsamples your input using a window of size (f, f) and strides of size (s, s) to carry out max pooling over each window.  For max pooling, you usually operate on a single example at a time and a single channel at a time. Read the full documentation on [MaxPool2D](https://www.tensorflow.org/api_docs/python/tf/keras/layers/MaxPool2D).\n",
    "\n",
    "- **tf.keras.layers.ReLU():** computes the elementwise ReLU of Z (which can be any shape). You can read the full documentation on [ReLU](https://www.tensorflow.org/api_docs/python/tf/keras/layers/ReLU).\n",
    "\n",
    "- **tf.keras.layers.Flatten()**: given a tensor \"P\", this function takes each training (or test) example in the batch and flattens it into a 1D vector.  \n",
    "\n",
    "    * If a tensor P has the shape (batch_size,h,w,c), it returns a flattened tensor with shape (batch_size, k), where $k=h \\times w \\times c$.  \"k\" equals the product of all the dimension sizes other than the first dimension.\n",
    "    \n",
    "    * For example, given a tensor with dimensions [100, 2, 3, 4], it flattens the tensor to be of shape [100, 24], where 24 = 2 * 3 * 4.  You can read the full documentation on [Flatten](https://www.tensorflow.org/api_docs/python/tf/keras/layers/Flatten).\n",
    "\n",
    "- **tf.keras.layers.Dense(units= ... , activation='softmax')(F):** given the flattened input F, it returns the output computed using a fully connected layer. You can read the full documentation on [Dense](https://www.tensorflow.org/api_docs/python/tf/keras/layers/Dense).\n",
    "\n",
    "In the last function above (`tf.keras.layers.Dense()`), the fully connected layer automatically initializes weights in the graph and keeps on training them as you train the model. Hence, you did not need to initialize those weights when initializing the parameters.\n",
    "\n",
    "Lastly, before creating the model, you'll need to define the output using the last of the function's compositions (in this example, a Dense layer): \n",
    "\n",
    "- **outputs = tf.keras.layers.Dense(units=6, activation='softmax')(F)**\n",
    "\n",
    "\n",
    "#### Window, kernel, filter, pool\n",
    "\n",
    "The words \"kernel\" and \"filter\" are used to refer to the same thing. The word \"filter\" accounts for the amount of \"kernels\" that will be used in a single convolution layer. \"Pool\" is the name of the operation that takes the max or average value of the kernels. \n",
    "\n",
    "This is why the parameter `pool_size` refers to `kernel_size`, and you use `(f,f)` to refer to the filter size. \n",
    "\n",
    "Pool size and kernel size refer to the same thing in different objects - They refer to the shape of the window where the operation takes place. "
   ]
  },
  {
   "cell_type": "markdown",
   "metadata": {},
   "source": [
    "<a name='ex-2'></a>\n",
    "### Exercise 2 - convolutional_model\n",
    "\n",
    "Implement the `convolutional_model` function below to build the following model: `CONV2D -> RELU -> MAXPOOL -> CONV2D -> RELU -> MAXPOOL -> FLATTEN -> DENSE`. Use the functions above! \n",
    "\n",
    "Also, plug in the following parameters for all the steps:\n",
    "\n",
    " - [Conv2D](https://www.tensorflow.org/api_docs/python/tf/keras/layers/Conv2D): Use 8 4 by 4 filters, stride 1, padding is \"SAME\"\n",
    " - [ReLU](https://www.tensorflow.org/api_docs/python/tf/keras/layers/ReLU)\n",
    " - [MaxPool2D](https://www.tensorflow.org/api_docs/python/tf/keras/layers/MaxPool2D): Use an 8 by 8 filter size and an 8 by 8 stride, padding is \"SAME\"\n",
    " - **Conv2D**: Use 16 2 by 2 filters, stride 1, padding is \"SAME\"\n",
    " - **ReLU**\n",
    " - **MaxPool2D**: Use a 4 by 4 filter size and a 4 by 4 stride, padding is \"SAME\"\n",
    " - [Flatten](https://www.tensorflow.org/api_docs/python/tf/keras/layers/Flatten) the previous output.\n",
    " - Fully-connected ([Dense](https://www.tensorflow.org/api_docs/python/tf/keras/layers/Dense)) layer: Apply a fully connected layer with 6 neurons and a softmax activation. "
   ]
  },
  {
   "cell_type": "code",
   "execution_count": 21,
   "metadata": {
    "deletable": false,
    "nbgrader": {
     "cell_type": "code",
     "checksum": "f58643806aa8380c96225fc8b4c5e7aa",
     "grade": false,
     "grade_id": "cell-dac51744a9e03f51",
     "locked": false,
     "schema_version": 3,
     "solution": true,
     "task": false
    }
   },
   "outputs": [],
   "source": [
    "# GRADED FUNCTION: convolutional_model\n",
    "\n",
    "def convolutional_model(input_shape):\n",
    "    \"\"\"\n",
    "    Implements the forward propagation for the model:\n",
    "    CONV2D -> RELU -> MAXPOOL -> CONV2D -> RELU -> MAXPOOL -> FLATTEN -> DENSE\n",
    "    \n",
    "    Note that for simplicity and grading purposes, you'll hard-code some values\n",
    "    such as the stride and kernel (filter) sizes. \n",
    "    Normally, functions should take these values as function parameters.\n",
    "    \n",
    "    Arguments:\n",
    "    input_img -- input dataset, of shape (input_shape)\n",
    "\n",
    "    Returns:\n",
    "    model -- TF Keras model (object containing the information for the entire training process) \n",
    "    \"\"\"\n",
    "\n",
    "    input_img = tf.keras.Input(shape=input_shape)\n",
    "    ## CONV2D: 8 filters 4x4, stride of 1, padding 'SAME'\n",
    "    Z1 = tf.keras.layers.Conv2D(filters= 8 , kernel_size= 4 , padding='same')(input_img)\n",
    "    ## RELU\n",
    "    A1 = tf.keras.layers.ReLU()(Z1)\n",
    "    ## MAXPOOL: window 8x8, stride 8, padding 'SAME'\n",
    "    P1 = tf.keras.layers.MaxPool2D(pool_size=(8, 8), strides=(8, 8), padding='same')(A1)\n",
    "    ## CONV2D: 16 filters 2x2, stride 1, padding 'SAME'\n",
    "    Z2 =  tf.keras.layers.Conv2D(filters= 16 , kernel_size= 2 , padding='same')(P1)\n",
    "    ## RELU\n",
    "    A2 = tf.keras.layers.ReLU()(Z2)\n",
    "    ## MAXPOOL: window 4x4, stride 4, padding 'SAME'\n",
    "    P2 = tf.keras.layers.MaxPool2D(pool_size=(4, 4), strides=(4, 4), padding='same')(A2)\n",
    "    ## FLATTEN\n",
    "    F = tf.keras.layers.Flatten()(P2)\n",
    "    ## Dense layer\n",
    "    ## 6 neurons in output layer. Hint: one of the arguments should be \"activation='softmax'\" \n",
    "    outputs = tf.keras.layers.Dense(6,activation='softmax')(F)\n",
    "    # YOUR CODE STARTS HERE\n",
    "    \n",
    "    \n",
    "    # YOUR CODE ENDS HERE\n",
    "    model = tf.keras.Model(inputs=input_img, outputs=outputs)\n",
    "    return model"
   ]
  },
  {
   "cell_type": "code",
   "execution_count": 22,
   "metadata": {
    "deletable": false,
    "editable": false,
    "nbgrader": {
     "cell_type": "code",
     "checksum": "483d626949930a0b0ef20997e7c6ba72",
     "grade": true,
     "grade_id": "cell-45d22e92042174c9",
     "locked": true,
     "points": 10,
     "schema_version": 3,
     "solution": false,
     "task": false
    }
   },
   "outputs": [
    {
     "name": "stdout",
     "output_type": "stream",
     "text": [
      "Model: \"functional_1\"\n",
      "_________________________________________________________________\n",
      "Layer (type)                 Output Shape              Param #   \n",
      "=================================================================\n",
      "input_1 (InputLayer)         [(None, 64, 64, 3)]       0         \n",
      "_________________________________________________________________\n",
      "conv2d_2 (Conv2D)            (None, 64, 64, 8)         392       \n",
      "_________________________________________________________________\n",
      "re_lu_2 (ReLU)               (None, 64, 64, 8)         0         \n",
      "_________________________________________________________________\n",
      "max_pooling2d_2 (MaxPooling2 (None, 8, 8, 8)           0         \n",
      "_________________________________________________________________\n",
      "conv2d_3 (Conv2D)            (None, 8, 8, 16)          528       \n",
      "_________________________________________________________________\n",
      "re_lu_3 (ReLU)               (None, 8, 8, 16)          0         \n",
      "_________________________________________________________________\n",
      "max_pooling2d_3 (MaxPooling2 (None, 2, 2, 16)          0         \n",
      "_________________________________________________________________\n",
      "flatten_2 (Flatten)          (None, 64)                0         \n",
      "_________________________________________________________________\n",
      "dense_2 (Dense)              (None, 6)                 390       \n",
      "=================================================================\n",
      "Total params: 1,310\n",
      "Trainable params: 1,310\n",
      "Non-trainable params: 0\n",
      "_________________________________________________________________\n",
      "\u001b[32mAll tests passed!\u001b[0m\n"
     ]
    }
   ],
   "source": [
    "conv_model = convolutional_model((64, 64, 3))\n",
    "conv_model.compile(optimizer='adam',\n",
    "                  loss='categorical_crossentropy',\n",
    "                  metrics=['accuracy'])\n",
    "conv_model.summary()\n",
    "    \n",
    "output = [['InputLayer', [(None, 64, 64, 3)], 0],\n",
    "        ['Conv2D', (None, 64, 64, 8), 392, 'same', 'linear', 'GlorotUniform'],\n",
    "        ['ReLU', (None, 64, 64, 8), 0],\n",
    "        ['MaxPooling2D', (None, 8, 8, 8), 0, (8, 8), (8, 8), 'same'],\n",
    "        ['Conv2D', (None, 8, 8, 16), 528, 'same', 'linear', 'GlorotUniform'],\n",
    "        ['ReLU', (None, 8, 8, 16), 0],\n",
    "        ['MaxPooling2D', (None, 2, 2, 16), 0, (4, 4), (4, 4), 'same'],\n",
    "        ['Flatten', (None, 64), 0],\n",
    "        ['Dense', (None, 6), 390, 'softmax']]\n",
    "    \n",
    "comparator(summary(conv_model), output)"
   ]
  },
  {
   "cell_type": "markdown",
   "metadata": {},
   "source": [
    "Both the Sequential and Functional APIs return a TF Keras model object. The only difference is how inputs are handled inside the object model! "
   ]
  },
  {
   "cell_type": "markdown",
   "metadata": {},
   "source": [
    "<a name='4-4'></a>\n",
    "### 4.4 - Train the Model"
   ]
  },
  {
   "cell_type": "code",
   "execution_count": 23,
   "metadata": {},
   "outputs": [
    {
     "name": "stdout",
     "output_type": "stream",
     "text": [
      "Epoch 1/100\n",
      "17/17 [==============================] - 2s 112ms/step - loss: 1.8414 - accuracy: 0.1611 - val_loss: 1.7935 - val_accuracy: 0.1750\n",
      "Epoch 2/100\n",
      "17/17 [==============================] - 2s 111ms/step - loss: 1.7930 - accuracy: 0.1676 - val_loss: 1.7876 - val_accuracy: 0.2333\n",
      "Epoch 3/100\n",
      "17/17 [==============================] - 2s 106ms/step - loss: 1.7878 - accuracy: 0.1889 - val_loss: 1.7834 - val_accuracy: 0.2167\n",
      "Epoch 4/100\n",
      "17/17 [==============================] - 2s 106ms/step - loss: 1.7833 - accuracy: 0.1991 - val_loss: 1.7798 - val_accuracy: 0.2000\n",
      "Epoch 5/100\n",
      "17/17 [==============================] - 2s 106ms/step - loss: 1.7793 - accuracy: 0.2407 - val_loss: 1.7763 - val_accuracy: 0.2500\n",
      "Epoch 6/100\n",
      "17/17 [==============================] - 2s 106ms/step - loss: 1.7753 - accuracy: 0.2824 - val_loss: 1.7727 - val_accuracy: 0.2583\n",
      "Epoch 7/100\n",
      "17/17 [==============================] - 2s 111ms/step - loss: 1.7712 - accuracy: 0.2907 - val_loss: 1.7683 - val_accuracy: 0.2583\n",
      "Epoch 8/100\n",
      "17/17 [==============================] - 2s 107ms/step - loss: 1.7667 - accuracy: 0.2944 - val_loss: 1.7635 - val_accuracy: 0.2750\n",
      "Epoch 9/100\n",
      "17/17 [==============================] - 2s 106ms/step - loss: 1.7610 - accuracy: 0.3231 - val_loss: 1.7579 - val_accuracy: 0.2500\n",
      "Epoch 10/100\n",
      "17/17 [==============================] - 2s 112ms/step - loss: 1.7544 - accuracy: 0.3500 - val_loss: 1.7506 - val_accuracy: 0.2833\n",
      "Epoch 11/100\n",
      "17/17 [==============================] - 2s 111ms/step - loss: 1.7460 - accuracy: 0.3519 - val_loss: 1.7420 - val_accuracy: 0.2917\n",
      "Epoch 12/100\n",
      "17/17 [==============================] - 2s 112ms/step - loss: 1.7356 - accuracy: 0.3713 - val_loss: 1.7310 - val_accuracy: 0.3083\n",
      "Epoch 13/100\n",
      "17/17 [==============================] - 2s 106ms/step - loss: 1.7229 - accuracy: 0.3954 - val_loss: 1.7181 - val_accuracy: 0.3250\n",
      "Epoch 14/100\n",
      "17/17 [==============================] - 2s 112ms/step - loss: 1.7078 - accuracy: 0.4074 - val_loss: 1.7020 - val_accuracy: 0.3417\n",
      "Epoch 15/100\n",
      "17/17 [==============================] - 2s 107ms/step - loss: 1.6884 - accuracy: 0.4259 - val_loss: 1.6829 - val_accuracy: 0.3250\n",
      "Epoch 16/100\n",
      "17/17 [==============================] - 2s 107ms/step - loss: 1.6658 - accuracy: 0.4435 - val_loss: 1.6602 - val_accuracy: 0.4083\n",
      "Epoch 17/100\n",
      "17/17 [==============================] - 2s 106ms/step - loss: 1.6395 - accuracy: 0.4602 - val_loss: 1.6351 - val_accuracy: 0.4167\n",
      "Epoch 18/100\n",
      "17/17 [==============================] - 2s 106ms/step - loss: 1.6100 - accuracy: 0.4759 - val_loss: 1.6056 - val_accuracy: 0.4333\n",
      "Epoch 19/100\n",
      "17/17 [==============================] - 2s 112ms/step - loss: 1.5772 - accuracy: 0.4861 - val_loss: 1.5735 - val_accuracy: 0.4417\n",
      "Epoch 20/100\n",
      "17/17 [==============================] - 2s 112ms/step - loss: 1.5405 - accuracy: 0.5102 - val_loss: 1.5397 - val_accuracy: 0.4583\n",
      "Epoch 21/100\n",
      "17/17 [==============================] - 2s 107ms/step - loss: 1.5025 - accuracy: 0.5269 - val_loss: 1.5051 - val_accuracy: 0.4917\n",
      "Epoch 22/100\n",
      "17/17 [==============================] - 2s 106ms/step - loss: 1.4627 - accuracy: 0.5352 - val_loss: 1.4682 - val_accuracy: 0.4667\n",
      "Epoch 23/100\n",
      "17/17 [==============================] - 2s 106ms/step - loss: 1.4230 - accuracy: 0.5472 - val_loss: 1.4330 - val_accuracy: 0.4667\n",
      "Epoch 24/100\n",
      "17/17 [==============================] - 2s 111ms/step - loss: 1.3830 - accuracy: 0.5509 - val_loss: 1.3946 - val_accuracy: 0.4750\n",
      "Epoch 25/100\n",
      "17/17 [==============================] - 2s 112ms/step - loss: 1.3419 - accuracy: 0.5713 - val_loss: 1.3608 - val_accuracy: 0.5083\n",
      "Epoch 26/100\n",
      "17/17 [==============================] - 2s 106ms/step - loss: 1.3044 - accuracy: 0.5750 - val_loss: 1.3266 - val_accuracy: 0.5083\n",
      "Epoch 27/100\n",
      "17/17 [==============================] - 2s 112ms/step - loss: 1.2693 - accuracy: 0.5843 - val_loss: 1.2959 - val_accuracy: 0.5167\n",
      "Epoch 28/100\n",
      "17/17 [==============================] - 2s 106ms/step - loss: 1.2357 - accuracy: 0.5926 - val_loss: 1.2672 - val_accuracy: 0.5333\n",
      "Epoch 29/100\n",
      "17/17 [==============================] - 2s 106ms/step - loss: 1.2037 - accuracy: 0.6000 - val_loss: 1.2394 - val_accuracy: 0.5417\n",
      "Epoch 30/100\n",
      "17/17 [==============================] - 2s 111ms/step - loss: 1.1748 - accuracy: 0.6037 - val_loss: 1.2152 - val_accuracy: 0.5500\n",
      "Epoch 31/100\n",
      "17/17 [==============================] - 2s 107ms/step - loss: 1.1468 - accuracy: 0.6148 - val_loss: 1.1906 - val_accuracy: 0.5583\n",
      "Epoch 32/100\n",
      "17/17 [==============================] - 2s 107ms/step - loss: 1.1199 - accuracy: 0.6185 - val_loss: 1.1683 - val_accuracy: 0.5583\n",
      "Epoch 33/100\n",
      "17/17 [==============================] - 2s 106ms/step - loss: 1.0951 - accuracy: 0.6241 - val_loss: 1.1471 - val_accuracy: 0.5667\n",
      "Epoch 34/100\n",
      "17/17 [==============================] - 2s 106ms/step - loss: 1.0724 - accuracy: 0.6278 - val_loss: 1.1292 - val_accuracy: 0.5833\n",
      "Epoch 35/100\n",
      "17/17 [==============================] - 2s 106ms/step - loss: 1.0496 - accuracy: 0.6324 - val_loss: 1.1107 - val_accuracy: 0.6000\n",
      "Epoch 36/100\n",
      "17/17 [==============================] - 2s 111ms/step - loss: 1.0292 - accuracy: 0.6370 - val_loss: 1.0940 - val_accuracy: 0.6083\n",
      "Epoch 37/100\n",
      "17/17 [==============================] - 2s 106ms/step - loss: 1.0090 - accuracy: 0.6417 - val_loss: 1.0768 - val_accuracy: 0.6000\n",
      "Epoch 38/100\n",
      "17/17 [==============================] - 2s 106ms/step - loss: 0.9879 - accuracy: 0.6491 - val_loss: 1.0561 - val_accuracy: 0.6000\n",
      "Epoch 39/100\n",
      "17/17 [==============================] - 2s 111ms/step - loss: 0.9681 - accuracy: 0.6583 - val_loss: 1.0394 - val_accuracy: 0.6000\n",
      "Epoch 40/100\n",
      "17/17 [==============================] - 2s 111ms/step - loss: 0.9488 - accuracy: 0.6630 - val_loss: 1.0243 - val_accuracy: 0.6000\n",
      "Epoch 41/100\n",
      "17/17 [==============================] - 2s 111ms/step - loss: 0.9314 - accuracy: 0.6685 - val_loss: 1.0106 - val_accuracy: 0.6000\n",
      "Epoch 42/100\n",
      "17/17 [==============================] - 2s 111ms/step - loss: 0.9138 - accuracy: 0.6769 - val_loss: 0.9959 - val_accuracy: 0.6000\n",
      "Epoch 43/100\n",
      "17/17 [==============================] - 2s 111ms/step - loss: 0.8977 - accuracy: 0.6852 - val_loss: 0.9840 - val_accuracy: 0.6000\n",
      "Epoch 44/100\n",
      "17/17 [==============================] - 2s 106ms/step - loss: 0.8818 - accuracy: 0.6889 - val_loss: 0.9702 - val_accuracy: 0.6167\n",
      "Epoch 45/100\n",
      "17/17 [==============================] - 2s 106ms/step - loss: 0.8676 - accuracy: 0.6926 - val_loss: 0.9598 - val_accuracy: 0.6167\n",
      "Epoch 46/100\n",
      "17/17 [==============================] - 2s 106ms/step - loss: 0.8526 - accuracy: 0.7009 - val_loss: 0.9475 - val_accuracy: 0.6333\n",
      "Epoch 47/100\n",
      "17/17 [==============================] - 2s 107ms/step - loss: 0.8389 - accuracy: 0.7046 - val_loss: 0.9351 - val_accuracy: 0.6417\n",
      "Epoch 48/100\n",
      "17/17 [==============================] - 2s 106ms/step - loss: 0.8256 - accuracy: 0.7120 - val_loss: 0.9250 - val_accuracy: 0.6500\n",
      "Epoch 49/100\n",
      "17/17 [==============================] - 2s 112ms/step - loss: 0.8134 - accuracy: 0.7213 - val_loss: 0.9154 - val_accuracy: 0.6583\n",
      "Epoch 50/100\n",
      "17/17 [==============================] - 2s 111ms/step - loss: 0.8019 - accuracy: 0.7231 - val_loss: 0.9073 - val_accuracy: 0.6667\n",
      "Epoch 51/100\n",
      "17/17 [==============================] - 2s 111ms/step - loss: 0.7911 - accuracy: 0.7259 - val_loss: 0.8988 - val_accuracy: 0.6667\n",
      "Epoch 52/100\n",
      "17/17 [==============================] - 2s 106ms/step - loss: 0.7805 - accuracy: 0.7287 - val_loss: 0.8918 - val_accuracy: 0.6667\n",
      "Epoch 53/100\n",
      "17/17 [==============================] - 2s 111ms/step - loss: 0.7701 - accuracy: 0.7343 - val_loss: 0.8837 - val_accuracy: 0.6583\n",
      "Epoch 54/100\n",
      "17/17 [==============================] - 2s 111ms/step - loss: 0.7597 - accuracy: 0.7380 - val_loss: 0.8765 - val_accuracy: 0.6667\n",
      "Epoch 55/100\n",
      "17/17 [==============================] - 2s 111ms/step - loss: 0.7492 - accuracy: 0.7398 - val_loss: 0.8662 - val_accuracy: 0.6833\n",
      "Epoch 56/100\n",
      "17/17 [==============================] - 2s 106ms/step - loss: 0.7387 - accuracy: 0.7444 - val_loss: 0.8570 - val_accuracy: 0.6833\n",
      "Epoch 57/100\n",
      "17/17 [==============================] - 2s 106ms/step - loss: 0.7289 - accuracy: 0.7463 - val_loss: 0.8480 - val_accuracy: 0.6917\n",
      "Epoch 58/100\n",
      "17/17 [==============================] - 2s 111ms/step - loss: 0.7187 - accuracy: 0.7500 - val_loss: 0.8392 - val_accuracy: 0.6917\n",
      "Epoch 59/100\n",
      "17/17 [==============================] - 2s 111ms/step - loss: 0.7089 - accuracy: 0.7500 - val_loss: 0.8316 - val_accuracy: 0.7000\n",
      "Epoch 60/100\n",
      "17/17 [==============================] - 2s 107ms/step - loss: 0.6987 - accuracy: 0.7556 - val_loss: 0.8245 - val_accuracy: 0.7000\n",
      "Epoch 61/100\n",
      "17/17 [==============================] - 2s 106ms/step - loss: 0.6892 - accuracy: 0.7583 - val_loss: 0.8206 - val_accuracy: 0.6833\n",
      "Epoch 62/100\n",
      "17/17 [==============================] - 2s 106ms/step - loss: 0.6803 - accuracy: 0.7583 - val_loss: 0.8071 - val_accuracy: 0.6833\n",
      "Epoch 63/100\n",
      "17/17 [==============================] - 2s 106ms/step - loss: 0.6645 - accuracy: 0.7685 - val_loss: 0.8100 - val_accuracy: 0.6667\n",
      "Epoch 64/100\n",
      "17/17 [==============================] - 2s 111ms/step - loss: 0.6567 - accuracy: 0.7750 - val_loss: 0.8043 - val_accuracy: 0.6667\n",
      "Epoch 65/100\n",
      "17/17 [==============================] - 2s 111ms/step - loss: 0.6489 - accuracy: 0.7713 - val_loss: 0.7978 - val_accuracy: 0.6667\n",
      "Epoch 66/100\n",
      "17/17 [==============================] - 2s 111ms/step - loss: 0.6420 - accuracy: 0.7741 - val_loss: 0.7926 - val_accuracy: 0.6750\n",
      "Epoch 67/100\n",
      "17/17 [==============================] - 2s 112ms/step - loss: 0.6346 - accuracy: 0.7806 - val_loss: 0.7854 - val_accuracy: 0.6750\n",
      "Epoch 68/100\n",
      "17/17 [==============================] - 2s 112ms/step - loss: 0.6279 - accuracy: 0.7833 - val_loss: 0.7812 - val_accuracy: 0.6750\n",
      "Epoch 69/100\n",
      "17/17 [==============================] - 2s 107ms/step - loss: 0.6220 - accuracy: 0.7861 - val_loss: 0.7739 - val_accuracy: 0.6833\n",
      "Epoch 70/100\n",
      "17/17 [==============================] - 2s 106ms/step - loss: 0.6153 - accuracy: 0.7898 - val_loss: 0.7701 - val_accuracy: 0.7000\n",
      "Epoch 71/100\n",
      "17/17 [==============================] - 2s 106ms/step - loss: 0.6098 - accuracy: 0.7963 - val_loss: 0.7593 - val_accuracy: 0.7000\n",
      "Epoch 72/100\n",
      "17/17 [==============================] - 2s 106ms/step - loss: 0.6038 - accuracy: 0.7981 - val_loss: 0.7526 - val_accuracy: 0.7000\n",
      "Epoch 73/100\n",
      "17/17 [==============================] - 2s 106ms/step - loss: 0.5977 - accuracy: 0.7954 - val_loss: 0.7476 - val_accuracy: 0.7083\n",
      "Epoch 74/100\n",
      "17/17 [==============================] - 2s 106ms/step - loss: 0.5924 - accuracy: 0.8019 - val_loss: 0.7393 - val_accuracy: 0.7333\n",
      "Epoch 75/100\n",
      "17/17 [==============================] - 2s 111ms/step - loss: 0.5864 - accuracy: 0.8019 - val_loss: 0.7339 - val_accuracy: 0.7333\n",
      "Epoch 76/100\n",
      "17/17 [==============================] - 2s 106ms/step - loss: 0.5810 - accuracy: 0.8056 - val_loss: 0.7271 - val_accuracy: 0.7333\n",
      "Epoch 77/100\n",
      "17/17 [==============================] - 2s 111ms/step - loss: 0.5750 - accuracy: 0.8093 - val_loss: 0.7204 - val_accuracy: 0.7333\n",
      "Epoch 78/100\n",
      "17/17 [==============================] - 2s 106ms/step - loss: 0.5697 - accuracy: 0.8111 - val_loss: 0.7148 - val_accuracy: 0.7333\n",
      "Epoch 79/100\n",
      "17/17 [==============================] - 2s 106ms/step - loss: 0.5637 - accuracy: 0.8148 - val_loss: 0.7101 - val_accuracy: 0.7333\n",
      "Epoch 80/100\n",
      "17/17 [==============================] - 2s 106ms/step - loss: 0.5586 - accuracy: 0.8130 - val_loss: 0.7052 - val_accuracy: 0.7500\n",
      "Epoch 81/100\n",
      "17/17 [==============================] - 2s 111ms/step - loss: 0.5534 - accuracy: 0.8157 - val_loss: 0.7015 - val_accuracy: 0.7500\n",
      "Epoch 82/100\n",
      "17/17 [==============================] - 2s 107ms/step - loss: 0.5483 - accuracy: 0.8204 - val_loss: 0.6961 - val_accuracy: 0.7583\n",
      "Epoch 83/100\n",
      "17/17 [==============================] - 2s 106ms/step - loss: 0.5427 - accuracy: 0.8194 - val_loss: 0.6935 - val_accuracy: 0.7583\n",
      "Epoch 84/100\n",
      "17/17 [==============================] - 2s 106ms/step - loss: 0.5381 - accuracy: 0.8194 - val_loss: 0.6894 - val_accuracy: 0.7667\n",
      "Epoch 85/100\n",
      "17/17 [==============================] - 2s 111ms/step - loss: 0.5331 - accuracy: 0.8204 - val_loss: 0.6858 - val_accuracy: 0.7667\n",
      "Epoch 86/100\n",
      "17/17 [==============================] - 2s 106ms/step - loss: 0.5285 - accuracy: 0.8231 - val_loss: 0.6815 - val_accuracy: 0.7667\n",
      "Epoch 87/100\n",
      "17/17 [==============================] - 2s 106ms/step - loss: 0.5241 - accuracy: 0.8204 - val_loss: 0.6782 - val_accuracy: 0.7667\n",
      "Epoch 88/100\n",
      "17/17 [==============================] - 2s 106ms/step - loss: 0.5195 - accuracy: 0.8231 - val_loss: 0.6751 - val_accuracy: 0.7667\n",
      "Epoch 89/100\n",
      "17/17 [==============================] - 2s 106ms/step - loss: 0.5157 - accuracy: 0.8269 - val_loss: 0.6720 - val_accuracy: 0.7667\n",
      "Epoch 90/100\n",
      "17/17 [==============================] - 2s 111ms/step - loss: 0.5113 - accuracy: 0.8306 - val_loss: 0.6683 - val_accuracy: 0.7667\n",
      "Epoch 91/100\n",
      "17/17 [==============================] - 2s 105ms/step - loss: 0.5079 - accuracy: 0.8324 - val_loss: 0.6652 - val_accuracy: 0.7667\n",
      "Epoch 92/100\n",
      "17/17 [==============================] - 2s 111ms/step - loss: 0.5034 - accuracy: 0.8306 - val_loss: 0.6625 - val_accuracy: 0.7667\n",
      "Epoch 93/100\n",
      "17/17 [==============================] - 2s 106ms/step - loss: 0.5000 - accuracy: 0.8352 - val_loss: 0.6593 - val_accuracy: 0.7667\n",
      "Epoch 94/100\n",
      "17/17 [==============================] - 2s 106ms/step - loss: 0.4960 - accuracy: 0.8370 - val_loss: 0.6567 - val_accuracy: 0.7667\n",
      "Epoch 95/100\n",
      "17/17 [==============================] - 2s 111ms/step - loss: 0.4923 - accuracy: 0.8352 - val_loss: 0.6530 - val_accuracy: 0.7667\n",
      "Epoch 96/100\n",
      "17/17 [==============================] - 2s 106ms/step - loss: 0.4886 - accuracy: 0.8361 - val_loss: 0.6496 - val_accuracy: 0.7667\n",
      "Epoch 97/100\n",
      "17/17 [==============================] - 2s 106ms/step - loss: 0.4847 - accuracy: 0.8380 - val_loss: 0.6468 - val_accuracy: 0.7750\n",
      "Epoch 98/100\n",
      "17/17 [==============================] - 2s 111ms/step - loss: 0.4813 - accuracy: 0.8407 - val_loss: 0.6446 - val_accuracy: 0.7750\n",
      "Epoch 99/100\n",
      "17/17 [==============================] - 2s 106ms/step - loss: 0.4779 - accuracy: 0.8426 - val_loss: 0.6420 - val_accuracy: 0.7750\n",
      "Epoch 100/100\n",
      "17/17 [==============================] - 2s 106ms/step - loss: 0.4749 - accuracy: 0.8444 - val_loss: 0.6390 - val_accuracy: 0.7750\n"
     ]
    }
   ],
   "source": [
    "train_dataset = tf.data.Dataset.from_tensor_slices((X_train, Y_train)).batch(64)\n",
    "test_dataset = tf.data.Dataset.from_tensor_slices((X_test, Y_test)).batch(64)\n",
    "history = conv_model.fit(train_dataset, epochs=100, validation_data=test_dataset)"
   ]
  },
  {
   "cell_type": "markdown",
   "metadata": {},
   "source": [
    "<a name='5'></a>\n",
    "## 5 - History Object \n",
    "\n",
    "The history object is an output of the `.fit()` operation, and provides a record of all the loss and metric values in memory. It's stored as a dictionary that you can retrieve at `history.history`: "
   ]
  },
  {
   "cell_type": "code",
   "execution_count": 24,
   "metadata": {},
   "outputs": [
    {
     "data": {
      "text/plain": [
       "{'loss': [1.8413656949996948,\n",
       "  1.7930419445037842,\n",
       "  1.7877599000930786,\n",
       "  1.783334732055664,\n",
       "  1.7792619466781616,\n",
       "  1.775277853012085,\n",
       "  1.771205186843872,\n",
       "  1.7667107582092285,\n",
       "  1.7609906196594238,\n",
       "  1.7544177770614624,\n",
       "  1.7459683418273926,\n",
       "  1.7356175184249878,\n",
       "  1.7228786945343018,\n",
       "  1.7078219652175903,\n",
       "  1.6883808374404907,\n",
       "  1.6658252477645874,\n",
       "  1.6395339965820312,\n",
       "  1.609979510307312,\n",
       "  1.5771783590316772,\n",
       "  1.54054856300354,\n",
       "  1.5024925470352173,\n",
       "  1.4626643657684326,\n",
       "  1.423017978668213,\n",
       "  1.382987380027771,\n",
       "  1.341909646987915,\n",
       "  1.3043978214263916,\n",
       "  1.269275188446045,\n",
       "  1.2357248067855835,\n",
       "  1.2037285566329956,\n",
       "  1.1748243570327759,\n",
       "  1.1467820405960083,\n",
       "  1.1199359893798828,\n",
       "  1.095089316368103,\n",
       "  1.0723800659179688,\n",
       "  1.049572229385376,\n",
       "  1.0292470455169678,\n",
       "  1.0089659690856934,\n",
       "  0.9879122376441956,\n",
       "  0.9681463241577148,\n",
       "  0.9488028287887573,\n",
       "  0.9313536286354065,\n",
       "  0.9137836694717407,\n",
       "  0.8976913094520569,\n",
       "  0.8818303346633911,\n",
       "  0.8676083087921143,\n",
       "  0.8525730967521667,\n",
       "  0.8389211297035217,\n",
       "  0.8256018757820129,\n",
       "  0.8133867979049683,\n",
       "  0.8018717169761658,\n",
       "  0.7910677194595337,\n",
       "  0.7804948091506958,\n",
       "  0.7701422572135925,\n",
       "  0.7596747875213623,\n",
       "  0.7491812705993652,\n",
       "  0.7387081384658813,\n",
       "  0.7288869619369507,\n",
       "  0.7187276482582092,\n",
       "  0.7089278697967529,\n",
       "  0.6986503601074219,\n",
       "  0.6891996264457703,\n",
       "  0.6802818179130554,\n",
       "  0.6644596457481384,\n",
       "  0.6567198634147644,\n",
       "  0.6488751173019409,\n",
       "  0.6419930458068848,\n",
       "  0.63462233543396,\n",
       "  0.6279121041297913,\n",
       "  0.6219963431358337,\n",
       "  0.615315854549408,\n",
       "  0.6097733378410339,\n",
       "  0.603848397731781,\n",
       "  0.5977042317390442,\n",
       "  0.5923881530761719,\n",
       "  0.5863794684410095,\n",
       "  0.580990195274353,\n",
       "  0.5750074982643127,\n",
       "  0.5697261095046997,\n",
       "  0.5636609196662903,\n",
       "  0.5586355924606323,\n",
       "  0.5533959269523621,\n",
       "  0.5482718348503113,\n",
       "  0.5426916480064392,\n",
       "  0.5380870699882507,\n",
       "  0.533079981803894,\n",
       "  0.5284698605537415,\n",
       "  0.524129331111908,\n",
       "  0.5194602608680725,\n",
       "  0.5156642198562622,\n",
       "  0.5113084316253662,\n",
       "  0.5078751444816589,\n",
       "  0.503449559211731,\n",
       "  0.4999542832374573,\n",
       "  0.49600327014923096,\n",
       "  0.49229690432548523,\n",
       "  0.4885577857494354,\n",
       "  0.4846845269203186,\n",
       "  0.48134347796440125,\n",
       "  0.47791194915771484,\n",
       "  0.47487008571624756],\n",
       " 'accuracy': [0.16111111640930176,\n",
       "  0.1675925999879837,\n",
       "  0.18888889253139496,\n",
       "  0.19907407462596893,\n",
       "  0.24074074625968933,\n",
       "  0.28240740299224854,\n",
       "  0.2907407283782959,\n",
       "  0.2944444417953491,\n",
       "  0.3231481611728668,\n",
       "  0.3499999940395355,\n",
       "  0.35185185074806213,\n",
       "  0.3712962865829468,\n",
       "  0.39537036418914795,\n",
       "  0.40740740299224854,\n",
       "  0.42592594027519226,\n",
       "  0.4435185194015503,\n",
       "  0.4601851999759674,\n",
       "  0.47592592239379883,\n",
       "  0.4861111044883728,\n",
       "  0.510185182094574,\n",
       "  0.5268518328666687,\n",
       "  0.5351851582527161,\n",
       "  0.5472221970558167,\n",
       "  0.5509259104728699,\n",
       "  0.5712962746620178,\n",
       "  0.574999988079071,\n",
       "  0.5842592716217041,\n",
       "  0.5925925970077515,\n",
       "  0.6000000238418579,\n",
       "  0.6037036776542664,\n",
       "  0.614814817905426,\n",
       "  0.6185185313224792,\n",
       "  0.6240741014480591,\n",
       "  0.6277777552604675,\n",
       "  0.6324074268341064,\n",
       "  0.6370370388031006,\n",
       "  0.6416666507720947,\n",
       "  0.6490740776062012,\n",
       "  0.6583333611488342,\n",
       "  0.6629629731178284,\n",
       "  0.6685185432434082,\n",
       "  0.6768518686294556,\n",
       "  0.6851851940155029,\n",
       "  0.6888889074325562,\n",
       "  0.6925926208496094,\n",
       "  0.7009259462356567,\n",
       "  0.7046296000480652,\n",
       "  0.7120370268821716,\n",
       "  0.7212963104248047,\n",
       "  0.7231481671333313,\n",
       "  0.7259259223937988,\n",
       "  0.7287036776542664,\n",
       "  0.7342592477798462,\n",
       "  0.7379629611968994,\n",
       "  0.739814817905426,\n",
       "  0.7444444298744202,\n",
       "  0.7462962865829468,\n",
       "  0.75,\n",
       "  0.75,\n",
       "  0.7555555701255798,\n",
       "  0.7583333253860474,\n",
       "  0.7583333253860474,\n",
       "  0.7685185074806213,\n",
       "  0.7749999761581421,\n",
       "  0.7712963223457336,\n",
       "  0.7740740776062012,\n",
       "  0.7805555462837219,\n",
       "  0.7833333611488342,\n",
       "  0.7861111164093018,\n",
       "  0.789814829826355,\n",
       "  0.7962962985038757,\n",
       "  0.7981481552124023,\n",
       "  0.7953703999519348,\n",
       "  0.8018518686294556,\n",
       "  0.8018518686294556,\n",
       "  0.8055555820465088,\n",
       "  0.8092592358589172,\n",
       "  0.8111110925674438,\n",
       "  0.8148148059844971,\n",
       "  0.8129629492759705,\n",
       "  0.8157407641410828,\n",
       "  0.8203703761100769,\n",
       "  0.8194444179534912,\n",
       "  0.8194444179534912,\n",
       "  0.8203703761100769,\n",
       "  0.8231481313705444,\n",
       "  0.8203703761100769,\n",
       "  0.8231481313705444,\n",
       "  0.8268518447875977,\n",
       "  0.8305555582046509,\n",
       "  0.8324074149131775,\n",
       "  0.8305555582046509,\n",
       "  0.835185170173645,\n",
       "  0.8370370268821716,\n",
       "  0.835185170173645,\n",
       "  0.8361111283302307,\n",
       "  0.8379629850387573,\n",
       "  0.8407407402992249,\n",
       "  0.8425925970077515,\n",
       "  0.8444444537162781],\n",
       " 'val_loss': [1.7934536933898926,\n",
       "  1.7875783443450928,\n",
       "  1.7834166288375854,\n",
       "  1.7797504663467407,\n",
       "  1.7762808799743652,\n",
       "  1.7726856470108032,\n",
       "  1.7683428525924683,\n",
       "  1.7635385990142822,\n",
       "  1.7578785419464111,\n",
       "  1.7505996227264404,\n",
       "  1.7420461177825928,\n",
       "  1.731024146080017,\n",
       "  1.7180997133255005,\n",
       "  1.7020306587219238,\n",
       "  1.6828936338424683,\n",
       "  1.6601662635803223,\n",
       "  1.635117769241333,\n",
       "  1.6056305170059204,\n",
       "  1.5735417604446411,\n",
       "  1.5397058725357056,\n",
       "  1.5051456689834595,\n",
       "  1.4681950807571411,\n",
       "  1.432971715927124,\n",
       "  1.394608974456787,\n",
       "  1.3608413934707642,\n",
       "  1.3265634775161743,\n",
       "  1.2959284782409668,\n",
       "  1.2672381401062012,\n",
       "  1.239417552947998,\n",
       "  1.2151641845703125,\n",
       "  1.190609097480774,\n",
       "  1.1683106422424316,\n",
       "  1.1471219062805176,\n",
       "  1.129240870475769,\n",
       "  1.110748529434204,\n",
       "  1.0939885377883911,\n",
       "  1.0768276453018188,\n",
       "  1.0561127662658691,\n",
       "  1.0393544435501099,\n",
       "  1.024348497390747,\n",
       "  1.010587215423584,\n",
       "  0.9959481358528137,\n",
       "  0.9840333461761475,\n",
       "  0.9701615571975708,\n",
       "  0.9597989320755005,\n",
       "  0.9475098848342896,\n",
       "  0.9351344704627991,\n",
       "  0.9249975085258484,\n",
       "  0.9154439568519592,\n",
       "  0.9072942137718201,\n",
       "  0.8987518548965454,\n",
       "  0.8917911648750305,\n",
       "  0.8836758732795715,\n",
       "  0.8764733076095581,\n",
       "  0.8662354946136475,\n",
       "  0.8570360541343689,\n",
       "  0.8480228781700134,\n",
       "  0.8392339944839478,\n",
       "  0.8316023349761963,\n",
       "  0.8244835138320923,\n",
       "  0.8206194043159485,\n",
       "  0.8071164488792419,\n",
       "  0.8099586367607117,\n",
       "  0.804336428642273,\n",
       "  0.7978460788726807,\n",
       "  0.7925909757614136,\n",
       "  0.785400927066803,\n",
       "  0.7812099456787109,\n",
       "  0.7738997936248779,\n",
       "  0.7701097130775452,\n",
       "  0.7593454122543335,\n",
       "  0.7525666356086731,\n",
       "  0.7476031184196472,\n",
       "  0.7392561435699463,\n",
       "  0.73390132188797,\n",
       "  0.7271402478218079,\n",
       "  0.720430314540863,\n",
       "  0.7148174047470093,\n",
       "  0.7100760340690613,\n",
       "  0.70515376329422,\n",
       "  0.701535165309906,\n",
       "  0.6960846781730652,\n",
       "  0.6934608221054077,\n",
       "  0.6893770694732666,\n",
       "  0.6858004331588745,\n",
       "  0.6814890503883362,\n",
       "  0.6782235503196716,\n",
       "  0.675052285194397,\n",
       "  0.6720420718193054,\n",
       "  0.6682996153831482,\n",
       "  0.6651972532272339,\n",
       "  0.6624754071235657,\n",
       "  0.6593431830406189,\n",
       "  0.6566862463951111,\n",
       "  0.6530428528785706,\n",
       "  0.6495686769485474,\n",
       "  0.6468165516853333,\n",
       "  0.6445794701576233,\n",
       "  0.6419909000396729,\n",
       "  0.6389649510383606],\n",
       " 'val_accuracy': [0.17499999701976776,\n",
       "  0.23333333432674408,\n",
       "  0.21666666865348816,\n",
       "  0.20000000298023224,\n",
       "  0.25,\n",
       "  0.25833332538604736,\n",
       "  0.25833332538604736,\n",
       "  0.2750000059604645,\n",
       "  0.25,\n",
       "  0.28333333134651184,\n",
       "  0.2916666567325592,\n",
       "  0.3083333373069763,\n",
       "  0.32499998807907104,\n",
       "  0.34166666865348816,\n",
       "  0.32499998807907104,\n",
       "  0.40833333134651184,\n",
       "  0.4166666567325592,\n",
       "  0.4333333373069763,\n",
       "  0.4416666626930237,\n",
       "  0.4583333432674408,\n",
       "  0.49166667461395264,\n",
       "  0.46666666865348816,\n",
       "  0.46666666865348816,\n",
       "  0.4749999940395355,\n",
       "  0.5083333253860474,\n",
       "  0.5083333253860474,\n",
       "  0.5166666507720947,\n",
       "  0.5333333611488342,\n",
       "  0.5416666865348816,\n",
       "  0.550000011920929,\n",
       "  0.5583333373069763,\n",
       "  0.5583333373069763,\n",
       "  0.5666666626930237,\n",
       "  0.5833333134651184,\n",
       "  0.6000000238418579,\n",
       "  0.6083333492279053,\n",
       "  0.6000000238418579,\n",
       "  0.6000000238418579,\n",
       "  0.6000000238418579,\n",
       "  0.6000000238418579,\n",
       "  0.6000000238418579,\n",
       "  0.6000000238418579,\n",
       "  0.6000000238418579,\n",
       "  0.6166666746139526,\n",
       "  0.6166666746139526,\n",
       "  0.6333333253860474,\n",
       "  0.6416666507720947,\n",
       "  0.6499999761581421,\n",
       "  0.6583333611488342,\n",
       "  0.6666666865348816,\n",
       "  0.6666666865348816,\n",
       "  0.6666666865348816,\n",
       "  0.6583333611488342,\n",
       "  0.6666666865348816,\n",
       "  0.6833333373069763,\n",
       "  0.6833333373069763,\n",
       "  0.6916666626930237,\n",
       "  0.6916666626930237,\n",
       "  0.699999988079071,\n",
       "  0.699999988079071,\n",
       "  0.6833333373069763,\n",
       "  0.6833333373069763,\n",
       "  0.6666666865348816,\n",
       "  0.6666666865348816,\n",
       "  0.6666666865348816,\n",
       "  0.675000011920929,\n",
       "  0.675000011920929,\n",
       "  0.675000011920929,\n",
       "  0.6833333373069763,\n",
       "  0.699999988079071,\n",
       "  0.699999988079071,\n",
       "  0.699999988079071,\n",
       "  0.7083333134651184,\n",
       "  0.7333333492279053,\n",
       "  0.7333333492279053,\n",
       "  0.7333333492279053,\n",
       "  0.7333333492279053,\n",
       "  0.7333333492279053,\n",
       "  0.7333333492279053,\n",
       "  0.75,\n",
       "  0.75,\n",
       "  0.7583333253860474,\n",
       "  0.7583333253860474,\n",
       "  0.7666666507720947,\n",
       "  0.7666666507720947,\n",
       "  0.7666666507720947,\n",
       "  0.7666666507720947,\n",
       "  0.7666666507720947,\n",
       "  0.7666666507720947,\n",
       "  0.7666666507720947,\n",
       "  0.7666666507720947,\n",
       "  0.7666666507720947,\n",
       "  0.7666666507720947,\n",
       "  0.7666666507720947,\n",
       "  0.7666666507720947,\n",
       "  0.7666666507720947,\n",
       "  0.7749999761581421,\n",
       "  0.7749999761581421,\n",
       "  0.7749999761581421,\n",
       "  0.7749999761581421]}"
      ]
     },
     "execution_count": 24,
     "metadata": {},
     "output_type": "execute_result"
    }
   ],
   "source": [
    "history.history"
   ]
  },
  {
   "cell_type": "markdown",
   "metadata": {},
   "source": [
    "Now visualize the loss over time using `history.history`: "
   ]
  },
  {
   "cell_type": "code",
   "execution_count": 25,
   "metadata": {},
   "outputs": [
    {
     "data": {
      "text/plain": [
       "[Text(0, 0.5, 'Accuracy'), Text(0.5, 0, 'Epoch')]"
      ]
     },
     "execution_count": 25,
     "metadata": {},
     "output_type": "execute_result"
    },
    {
     "data": {
      "image/png": "[encoded data removed]",
      "text/plain": [
       "<Figure size 864x576 with 1 Axes>"
      ]
     },
     "metadata": {
      "needs_background": "light"
     },
     "output_type": "display_data"
    },
    {
     "data": {
      "image/png": "[encoded data removed]",
      "text/plain": [
       "<Figure size 864x576 with 1 Axes>"
      ]
     },
     "metadata": {
      "needs_background": "light"
     },
     "output_type": "display_data"
    }
   ],
   "source": [
    "# The history.history[\"loss\"] entry is a dictionary with as many values as epochs that the\n",
    "# model was trained on. \n",
    "df_loss_acc = pd.DataFrame(history.history)\n",
    "df_loss= df_loss_acc[['loss','val_loss']]\n",
    "df_loss.rename(columns={'loss':'train','val_loss':'validation'},inplace=True)\n",
    "df_acc= df_loss_acc[['accuracy','val_accuracy']]\n",
    "df_acc.rename(columns={'accuracy':'train','val_accuracy':'validation'},inplace=True)\n",
    "df_loss.plot(title='Model loss',figsize=(12,8)).set(xlabel='Epoch',ylabel='Loss')\n",
    "df_acc.plot(title='Model Accuracy',figsize=(12,8)).set(xlabel='Epoch',ylabel='Accuracy')"
   ]
  },
  {
   "cell_type": "markdown",
   "metadata": {},
   "source": [
    "**Congratulations**! You've finished the assignment and built two models: One that recognizes  smiles, and another that recognizes SIGN language with almost 80% accuracy on the test set. In addition to that, you now also understand the applications of two Keras APIs: Sequential and Functional. Nicely done! \n",
    "\n",
    "By now, you know a bit about how the Functional API works and may have glimpsed the possibilities. In your next assignment, you'll really get a feel for its power when you get the opportunity to build a very deep ConvNet, using ResNets! "
   ]
  },
  {
   "cell_type": "markdown",
   "metadata": {},
   "source": [
    "<a name='6'></a>\n",
    "## 6 - Bibliography\n",
    "\n",
    "You're always encouraged to read the official documentation. To that end, you can find the docs for the Sequential and Functional APIs here: \n",
    "\n",
    "https://www.tensorflow.org/guide/keras/sequential_model\n",
    "\n",
    "https://www.tensorflow.org/guide/keras/functional"
   ]
  },
  {
   "cell_type": "code",
   "execution_count": null,
   "metadata": {},
   "outputs": [],
   "source": []
  }
 ],
 "metadata": {
  "coursera": {
   "course_slug": "convolutional-neural-networks",
   "graded_item_id": "bwbJV",
   "launcher_item_id": "0TkXB"
  },
  "kernelspec": {
   "display_name": "Python 3",
   "language": "python",
   "name": "python3"
  },
  "language_info": {
   "codemirror_mode": {
    "name": "ipython",
    "version": 3
   },
   "file_extension": ".py",
   "mimetype": "text/x-python",
   "name": "python",
   "nbconvert_exporter": "python",
   "pygments_lexer": "ipython3",
   "version": "3.7.6"
  }
 },
 "nbformat": 4,
 "nbformat_minor": 2
}
